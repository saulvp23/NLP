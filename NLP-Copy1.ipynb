{
 "cells": [
  {
   "cell_type": "code",
   "execution_count": 2,
   "metadata": {},
   "outputs": [],
   "source": [
    "import numpy as np"
   ]
  },
  {
   "cell_type": "code",
   "execution_count": 65,
   "metadata": {},
   "outputs": [],
   "source": [
    "def f2(x1,x2):\n",
    "    X1, X2 = np.meshgrid(x1, x2)\n",
    "    return X1**2+X2**2+2*X1*X2\n",
    "def g2(x1,x2):\n",
    "    X1, X2 = np.meshgrid(x1, x2)\n",
    "    return np.array([[2*X1+2*X2],[2*X2+2*X1]])\n",
    "\n",
    "def oracle1(X, mode):\n",
    "    if mode==1:\n",
    "        return f2(X[0],X[1]) \n",
    "    elif mode==2:\n",
    "        return f2(X[0],X[1]),g2(X[0],X[1])\n",
    "    elif mode==3:\n",
    "        return g2(X[0],X[1])\n",
    "    else:\n",
    "        print('Not on the list')\n",
    "        \n",
    "def f3(x1,x2):\n",
    "    X1, X2 = np.meshgrid(x1, x2)\n",
    "    return X1**2+X2**2-2*X1*X2\n",
    "def g3(x1,x2):\n",
    "    X1, X2 = np.meshgrid(x1, x2)\n",
    "    return np.array([[2*X1-2*X2],[2*X2-2*X1]])\n",
    "\n",
    "\n",
    "def oracle3(X, mode):\n",
    "    if mode==1:\n",
    "        return f3(X[0],X[1]) \n",
    "    elif mode==2:\n",
    "        return f3(X[0],X[1]),g2(X[0],X[1])\n",
    "    elif mode==3:\n",
    "        return g3(X[0],X[1])\n",
    "    else:\n",
    "        print('Not on the list')\n",
    "        \n",
    "def f6(x1):\n",
    "    X1 = np.meshgrid(x1)\n",
    "    return 0.5*np.linalg.norm(X1)**2\n",
    "def g6(x1):\n",
    "    X1 = np.meshgrid(x1)\n",
    "    return np.linalg.norm(X1,ord=1)\n",
    "\n",
    "def oracle6(X, mode):\n",
    "    if mode==1:\n",
    "        return f6(X) \n",
    "    elif mode==2:\n",
    "        return f6(X),g2(X)\n",
    "    elif mode==3:\n",
    "        return g6(X)\n",
    "    else:\n",
    "        print('Not on the list')\n",
    "    \n"
   ]
  },
  {
   "cell_type": "code",
   "execution_count": 66,
   "metadata": {},
   "outputs": [],
   "source": [
    "X=np.array([[1,2,3,4,5],[5,4,3,2,1]])\n",
    "f,g = oracle3(X, mode=2)"
   ]
  },
  {
   "cell_type": "code",
   "execution_count": null,
   "metadata": {},
   "outputs": [],
   "source": []
  }
 ],
 "metadata": {
  "kernelspec": {
   "display_name": "Python 3",
   "language": "python",
   "name": "python3"
  },
  "language_info": {
   "codemirror_mode": {
    "name": "ipython",
    "version": 3
   },
   "file_extension": ".py",
   "mimetype": "text/x-python",
   "name": "python",
   "nbconvert_exporter": "python",
   "pygments_lexer": "ipython3",
   "version": "3.7.3"
  }
 },
 "nbformat": 4,
 "nbformat_minor": 4
}
